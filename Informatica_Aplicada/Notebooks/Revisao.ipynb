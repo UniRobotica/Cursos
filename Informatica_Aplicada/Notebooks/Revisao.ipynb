{
 "cells": [
  {
   "cell_type": "markdown",
   "metadata": {},
   "source": [
    "# Comandos break e continue, e cláusula else, nos laços de repetição\n",
    "\n",
    "'''\n",
    "\n",
    "O comando break, como no C, sai imediatamente do laço de repetição mais interno, seja for ou while.\n",
    "\n",
    "Laços podem ter uma cláusula else, que é executada sempre que o laço se encerra por exaustão do iterável (no caso do for) ou quando a condição se torna falsa (no caso do while), mas nunca quando o laço é interrompido por um break. Isto é exemplificado no próximo exemplo que procura números primos:\n",
    ">>>\n",
    "'''"
   ]
  },
  {
   "cell_type": "code",
   "execution_count": 1,
   "metadata": {},
   "outputs": [
    {
     "name": "stdout",
     "output_type": "stream",
     "text": [
      "2 is a prime number\n",
      "3 is a prime number\n",
      "4 equals 2 * 2\n",
      "5 is a prime number\n",
      "6 equals 2 * 3\n",
      "7 is a prime number\n",
      "8 equals 2 * 4\n",
      "9 equals 3 * 3\n",
      "\n",
      "\n"
     ]
    }
   ],
   "source": [
    "\n",
    "for n in range(2, 10):\n",
    "\n",
    "    for x in range(2, n):\n",
    "\n",
    "        if n % x == 0:\n",
    "\n",
    "            print(n, 'equals', x, '*', n//x)\n",
    "\n",
    "            break\n",
    "\n",
    "    else:\n",
    "\n",
    "        # loop fell through without finding a factor\n",
    "\n",
    "        print(n, 'is a prime number')\n",
    "\n",
    "print(\"\\n\")\n"
   ]
  },
  {
   "cell_type": "code",
   "execution_count": 2,
   "metadata": {},
   "outputs": [
    {
     "name": "stdout",
     "output_type": "stream",
     "text": [
      "Found an even number 2\n",
      "Found an odd number 3\n",
      "Found an even number 4\n",
      "Found an odd number 5\n",
      "Found an even number 6\n",
      "Found an odd number 7\n",
      "Found an even number 8\n",
      "Found an odd number 9\n"
     ]
    }
   ],
   "source": [
    "for num in range(2, 10):\n",
    "\n",
    "    if num % 2 == 0:\n",
    "\n",
    "        print(\"Found an even number\", num)\n",
    "\n",
    "        continue\n",
    "\n",
    "    print(\"Found an odd number\", num)\n",
    "\n"
   ]
  }
 ],
 "metadata": {
  "kernelspec": {
   "display_name": "Python 3",
   "language": "python",
   "name": "python3"
  },
  "language_info": {
   "codemirror_mode": {
    "name": "ipython",
    "version": 3
   },
   "file_extension": ".py",
   "mimetype": "text/x-python",
   "name": "python",
   "nbconvert_exporter": "python",
   "pygments_lexer": "ipython3",
   "version": "3.11.3"
  },
  "orig_nbformat": 4
 },
 "nbformat": 4,
 "nbformat_minor": 2
}
