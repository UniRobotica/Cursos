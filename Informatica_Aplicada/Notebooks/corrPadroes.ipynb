{
 "cells": [
  {
   "cell_type": "code",
   "execution_count": null,
   "metadata": {},
   "outputs": [],
   "source": [
    "def isPhoneNumber(text):\n",
    "  if len(text) != 12:\n",
    "         return False\n",
    "  for i in range(0, 3):\n",
    "    if not text[i].isdecimal():\n",
    "             return False\n",
    "  if text[3] != '-':\n",
    "         return False\n",
    "  for i in range(4, 7):\n",
    "      if not text[i].isdecimal():\n",
    "             return False\n",
    "  if text[7] != '-':\n",
    "         return False\n",
    "  for i in range(8, 12):\n",
    "      if not text[i].isdecimal():\n",
    "             return False\n",
    "  return True\n",
    "\n",
    "print('Is 415-555-4242 a phone number?')\n",
    "print(isPhoneNumber('415-555-4242'))\n",
    "print('Is Moshi moshi a phone number?')\n",
    "print(isPhoneNumber('Moshi moshi'))"
   ]
  },
  {
   "cell_type": "code",
   "execution_count": null,
   "metadata": {},
   "outputs": [],
   "source": [
    "message = 'Call me at 415-555-1011 tomorrow. 415-555-9999 is my office.'\n",
    "for i in range(len(message)):\n",
    "  chunk = message[i:i+12]\n",
    "  if isPhoneNumber(chunk):\n",
    "          print('Phone number found: ' + chunk)\n",
    "print('Done')"
   ]
  },
  {
   "cell_type": "code",
   "execution_count": 15,
   "metadata": {},
   "outputs": [
    {
     "ename": "ModuleNotFoundError",
     "evalue": "No module named 'pyinputplus'",
     "output_type": "error",
     "traceback": [
      "\u001b[0;31m---------------------------------------------------------------------------\u001b[0m",
      "\u001b[0;31mModuleNotFoundError\u001b[0m                       Traceback (most recent call last)",
      "\u001b[1;32m/home/unirobotica/Repositorios/Cursos/Informatica_Aplicada/Notebooks/corrPadroes.ipynb Cell 3\u001b[0m line \u001b[0;36m1\n\u001b[0;32m----> <a href='vscode-notebook-cell:/home/unirobotica/Repositorios/Cursos/Informatica_Aplicada/Notebooks/corrPadroes.ipynb#W2sZmlsZQ%3D%3D?line=0'>1</a>\u001b[0m \u001b[39mimport\u001b[39;00m \u001b[39mpyinputplus\u001b[39;00m \u001b[39mas\u001b[39;00m \u001b[39mpyip\u001b[39;00m \n\u001b[1;32m      <a href='vscode-notebook-cell:/home/unirobotica/Repositorios/Cursos/Informatica_Aplicada/Notebooks/corrPadroes.ipynb#W2sZmlsZQ%3D%3D?line=1'>2</a>\u001b[0m result \u001b[39m=\u001b[39m pyip\u001b[39m.\u001b[39minputNum(greaterThan\u001b[39m=\u001b[39m\u001b[39m4\u001b[39m, lessThan\u001b[39m=\u001b[39m\u001b[39m6\u001b[39m)\n",
      "\u001b[0;31mModuleNotFoundError\u001b[0m: No module named 'pyinputplus'"
     ]
    }
   ],
   "source": [
    "import pyinputplus as pyip \n",
    "result = pyip.inputNum(greaterThan=4, lessThan=6)"
   ]
  }
 ],
 "metadata": {
  "kernelspec": {
   "display_name": "Python 3",
   "language": "python",
   "name": "python3"
  },
  "language_info": {
   "codemirror_mode": {
    "name": "ipython",
    "version": 3
   },
   "file_extension": ".py",
   "mimetype": "text/x-python",
   "name": "python",
   "nbconvert_exporter": "python",
   "pygments_lexer": "ipython3",
   "version": "3.11.3"
  },
  "orig_nbformat": 4
 },
 "nbformat": 4,
 "nbformat_minor": 2
}
