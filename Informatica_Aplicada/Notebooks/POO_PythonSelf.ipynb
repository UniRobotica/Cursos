{
 "cells": [
  {
   "cell_type": "markdown",
   "metadata": {},
   "source": [
    "Com a palavra-chave self conseguimos acessar os atributos e métodos de uma classe em Python. Ela é responsável por vincular os atributos com os argumentos enviados para uma função ou método.\n",
    "\n",
    "O python utiliza essa palavra pois não há a sintaxe @ ou this para referenciar os atributos de instância. O self é sempre o primeiro parâmetro de todos os métodos chamados por uma instância de uma classe (ou seja, um objeto).\n",
    "\n",
    "    Self está sempre apontando para o objeto atual.\n",
    "\n",
    "Vejamos nosso primeiro exemplo abaixo. A classe teste tem dentro do seu construtor uma mensagem para imprimir o endereço da variável self:"
   ]
  },
  {
   "cell_type": "code",
   "execution_count": 3,
   "metadata": {},
   "outputs": [],
   "source": [
    "class teste:\n",
    "    def __init__(self):\n",
    "        print(\"Referência do self= \",id(self))"
   ]
  },
  {
   "cell_type": "code",
   "execution_count": null,
   "metadata": {},
   "outputs": [],
   "source": [
    "obj = teste()\n",
    "print(\"Referência do objeto classe teste=\", id(obj))"
   ]
  },
  {
   "cell_type": "markdown",
   "metadata": {},
   "source": [
    "O __init__ é o construtor da classe teste, significa que sempre que um novo objeto for instanciado a mensagem \"Endereço do self: \" será executado.\n",
    "Nesse exemplo conseguimos comprovar que a variável self e o objeto obj possuem o mesmo endereço de memória, ou seja, representam a mesma coisa.\n",
    "\n",
    "Agora vamos estudar um exemplo com atributos na classe."
   ]
  },
  {
   "cell_type": "code",
   "execution_count": 5,
   "metadata": {},
   "outputs": [],
   "source": [
    "class carro():\n",
    "    def __init__(self, modelo, cor):\n",
    "        self.modelo = modelo\n",
    "        self.cor = cor\n",
    "\n",
    "    def mostrar(self):\n",
    "        print(\"O modelo é\", self.modelo)\n",
    "        print(\"A cor é\", self.cor)"
   ]
  },
  {
   "cell_type": "code",
   "execution_count": null,
   "metadata": {},
   "outputs": [],
   "source": [
    "audi = carro(\"audi A4\", \"azul\")\n",
    "\n",
    "ferrari = carro (\"ferrari 488\", \"verde\")\n",
    "\n",
    "audi.mostrar()\n",
    "\n",
    "ferrari.mostrar()"
   ]
  },
  {
   "cell_type": "markdown",
   "metadata": {},
   "source": [
    "Definimos a classe carro com dois parâmetros, modelo e cor. Podemos observar que a palavra self é sempre utilizada como primeiro argumento, tanto do construtor quanto do método mostrar. Nem quando instanciamos os objetos, nem quando chamamos o método mostrar utilizamos esse primeiro argumento self, o python passa essa chamada do método como se estivesse chamando carro.mostrar(audi) ou carro.mostrar(ferrari), vejam os exemplos abaixo:"
   ]
  },
  {
   "cell_type": "markdown",
   "metadata": {},
   "source": [
    "Portanto, apesar de utilizarmos o self como primeiro argumento na definição de classes e métodos, não precisamos utilizá-lo na chamada. Mas o que acontece se não declararmos o self como primeiro parâmetro na definição? Será que essa palavra é opcional, servindo apenas para melhorar a legibilidade?\n",
    "\n",
    "Vamos testar:"
   ]
  },
  {
   "cell_type": "code",
   "execution_count": null,
   "metadata": {},
   "outputs": [],
   "source": [
    "class teste_2:\n",
    "    def __init__():\n",
    "        print(\"Esse é o construtor\")\n",
    "\n",
    "objeto_2 = teste_2()\n",
    "print(\"deu certo\")\n"
   ]
  },
  {
   "cell_type": "markdown",
   "metadata": {},
   "source": [
    "Vejam que o python não aceitou o construtor sem o self. Assim chegamos a uma conclusão:\n",
    "\n",
    "    O self é sempre o primeiro argumento a ser passado em um construtor e nos métodos de instâncias.\n",
    "\n",
    "O último teste que faremos é a utilização de outro parâmetro no lugar do self, será que self é uma palavra reservada e teremos erro?"
   ]
  },
  {
   "cell_type": "code",
   "execution_count": null,
   "metadata": {},
   "outputs": [],
   "source": [
    "class teste_3:\n",
    "    def __init__(outro_selt):\n",
    "        print(\"Usando outro parâmetro no lugar de self\")\n",
    "\n",
    "objeto_3 = teste_3()\n",
    "print(\"deu certo\")"
   ]
  },
  {
   "cell_type": "markdown",
   "metadata": {},
   "source": [
    "Não teremos nenhum erro, pois a realidade é que o self não é uma palavra reservada, é apenas uma convenção de boa prática. Melhora a legibilidade.\n",
    "\n",
    "    O self é uma convenção e não uma palavra reservada\n",
    "\n",
    "É possível utilizar outras palavras no lugar do self, mas preste atenção de utilizá-la em todos os lugares daquele método onde o self iria aparecer. Vejam os dois casos abaixo:\n"
   ]
  },
  {
   "cell_type": "code",
   "execution_count": null,
   "metadata": {},
   "outputs": [],
   "source": [
    "class carro():\n",
    "    def __init__(outro, modelo, cor):\n",
    "        self.modelo = modelo\n",
    "        self.cor = cor\n",
    "\n",
    "    def mostrar(self):\n",
    "        print(\"O modelo é\", self.modelo)\n",
    "        print(\"A cor é\", self.cor)\n",
    "\n",
    "fusca = carro('fusca','amarelo')"
   ]
  },
  {
   "cell_type": "markdown",
   "metadata": {},
   "source": [
    "E aqui a execução funcionaria sem problemas:"
   ]
  },
  {
   "cell_type": "code",
   "execution_count": null,
   "metadata": {},
   "outputs": [],
   "source": [
    "class carro():\n",
    "    def __init__(outro, modelo, cor):\n",
    "        outro.modelo = modelo\n",
    "        outro.cor = cor\n",
    "\n",
    "    def mostrar(self):\n",
    "        print(\"O modelo é\", self.modelo)\n",
    "        print(\"A cor é\", self.cor)\n",
    "\n",
    "fusca = carro('fusca','amarelo')\n",
    "\n",
    "fusca.mostrar()"
   ]
  }
 ],
 "metadata": {
  "kernelspec": {
   "display_name": "Python 3",
   "language": "python",
   "name": "python3"
  },
  "language_info": {
   "codemirror_mode": {
    "name": "ipython",
    "version": 3
   },
   "file_extension": ".py",
   "mimetype": "text/x-python",
   "name": "python",
   "nbconvert_exporter": "python",
   "pygments_lexer": "ipython3",
   "version": "3.11.3"
  },
  "orig_nbformat": 4
 },
 "nbformat": 4,
 "nbformat_minor": 2
}
