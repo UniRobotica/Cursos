{
 "cells": [
  {
   "attachments": {},
   "cell_type": "markdown",
   "metadata": {},
   "source": [
    "#Orientação a objeto \n",
    "\n",
    "Dentro da programação orientada a objetos nós vamos criar um objeto e vamos dar para ele métodos e atributos.\n",
    "\n",
    "![Alt text](image-1.png)\n",
    "\n",
    "![Alt text](image-2.png)"
   ]
  },
  {
   "attachments": {},
   "cell_type": "markdown",
   "metadata": {},
   "source": [
    "![Alt text](image.png)"
   ]
  },
  {
   "attachments": {},
   "cell_type": "markdown",
   "metadata": {},
   "source": [
    "![Alt text](image-3.png)"
   ]
  },
  {
   "cell_type": "code",
   "execution_count": null,
   "metadata": {},
   "outputs": [],
   "source": [
    "class Veiculo:\n",
    "    def __init__(self, nome, valor, n_rodas, velocidade):\n",
    "        self.nome = nome\n",
    "        self.valor = valor\n",
    "        self.n_rodas = n_rodas\n",
    "        self.velocidade = velocidade\n",
    "\n",
    "    def _str_(self):\n",
    "        print(self.nome)\n",
    "        print(self.valor)\n",
    "        print(self.n_rodas)\n",
    "        print(self.velocidade)\n",
    "        return True\n",
    "\n",
    "\n"
   ]
  },
  {
   "attachments": {},
   "cell_type": "markdown",
   "metadata": {},
   "source": []
  }
 ],
 "metadata": {
  "kernelspec": {
   "display_name": "Python 3",
   "language": "python",
   "name": "python3"
  },
  "language_info": {
   "codemirror_mode": {
    "name": "ipython",
    "version": 3
   },
   "file_extension": ".py",
   "mimetype": "text/x-python",
   "name": "python",
   "nbconvert_exporter": "python",
   "pygments_lexer": "ipython3",
   "version": "3.11.3"
  },
  "orig_nbformat": 4
 },
 "nbformat": 4,
 "nbformat_minor": 2
}
