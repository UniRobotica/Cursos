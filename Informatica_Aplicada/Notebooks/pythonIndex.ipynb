{
 "cells": [
  {
   "cell_type": "markdown",
   "metadata": {},
   "source": [
    "How do I access the index while iterating over a sequence with a for loop?"
   ]
  },
  {
   "cell_type": "code",
   "execution_count": 13,
   "metadata": {},
   "outputs": [
    {
     "name": "stdout",
     "output_type": "stream",
     "text": [
      "item #1 = 8\n",
      "item #2 = 23\n",
      "item #3 = 45\n"
     ]
    }
   ],
   "source": [
    "items = [8, 23, 45]\n",
    "index = 1\n",
    "for x in xs:\n",
    "    print(\"item #{} = {}\".format(index, x))\n",
    "    index += 1"
   ]
  },
  {
   "cell_type": "markdown",
   "metadata": {},
   "source": [
    "algorithm most programmers would use:"
   ]
  },
  {
   "cell_type": "code",
   "execution_count": 22,
   "metadata": {},
   "outputs": [
    {
     "name": "stdout",
     "output_type": "stream",
     "text": [
      "item #0 = 8\n",
      "item #1 = 23\n",
      "item #2 = 45\n"
     ]
    }
   ],
   "source": [
    "index = 0            # Python's indexing starts at zero\n",
    "for item in items:   # Python's for loops are a \"for each\" loop \n",
    "    print(f'item #{index} = {items[index]}')\n",
    "    index += 1"
   ]
  },
  {
   "cell_type": "markdown",
   "metadata": {},
   "source": [
    "Or in languages that do not have a for-each loop:"
   ]
  },
  {
   "cell_type": "code",
   "execution_count": 21,
   "metadata": {},
   "outputs": [
    {
     "name": "stdout",
     "output_type": "stream",
     "text": [
      "item #0 = 8\n",
      "item #1 = 23\n",
      "item #2 = 45\n"
     ]
    }
   ],
   "source": [
    "index = 0\n",
    "while index < len(items):\n",
    "    print(f'item #{index} = {items[index]}')\n",
    "    index += 1"
   ]
  },
  {
   "cell_type": "markdown",
   "metadata": {},
   "source": [
    "or sometimes more commonly found in Python:"
   ]
  },
  {
   "cell_type": "code",
   "execution_count": 23,
   "metadata": {},
   "outputs": [
    {
     "name": "stdout",
     "output_type": "stream",
     "text": [
      "item #0 = 8\n",
      "item #1 = 23\n",
      "item #2 = 45\n"
     ]
    }
   ],
   "source": [
    "for index in range(len(items)):\n",
    "    print(f'item #{index} = {items[index]}')"
   ]
  },
  {
   "cell_type": "markdown",
   "metadata": {},
   "source": [
    "Use the Enumerate Function\n",
    "Python's enumerate function reduces the visual clutter by hiding the accounting for the indexes, and encapsulating the iterable into another iterable (an enumerate object) that yields a two-item tuple of the index and the item that the original iterable would provide. That looks like this:\n",
    "\n",
    "for index, item in enumerate(items, start=0):   # default is zero\n",
    "    print(index, item)\n",
    "This code sample is fairly well the canonical example of the difference between code that is idiomatic of Python and code that is not. Idiomatic code is sophisticated (but not complicated) Python, written in the way that it was intended to be used. Idiomatic code is expected by the designers of the language, which means that usually this code is not just more readable, but also more efficient.\n",
    "\n",
    "Getting a count\n",
    "Even if you don't need indexes as you go, but you need a count of the iterations (sometimes desirable) you can start with 1 and the final number will be your count.\n",
    "\n",
    "count = 0 # in case items is empty\n",
    "for count, item in enumerate(items, start=1):   # default is zero\n",
    "    print(item)\n",
    "\n",
    "print('there were {0} items printed'.format(count))\n",
    "The count seems to be more what you intend to ask for (as opposed to index) when you said you wanted from 1 to 5.\n",
    "\n",
    "Breaking it down - a step by step explanation\n",
    "To break these examples down, say we have a list of items that we want to iterate over with an index:\n",
    "\n",
    "items = ['a', 'b', 'c', 'd', 'e']\n",
    "Now we pass this iterable to enumerate, creating an enumerate object:\n",
    "\n",
    "enumerate_object = enumerate(items) # the enumerate object\n",
    "We can pull the first item out of this iterable that we would get in a loop with the next function:\n",
    "\n",
    "iteration = next(enumerate_object) # first iteration from enumerate\n",
    "print(iteration)\n",
    "And we see we get a tuple of 0, the first index, and 'a', the first item:\n",
    "\n",
    "(0, 'a')\n",
    "we can use what is referred to as \"sequence unpacking\" to extract the elements from this two-tuple:\n",
    "\n",
    "index, item = iteration\n",
    "#   0,  'a' = (0, 'a') # essentially this.\n",
    "and when we inspect index, we find it refers to the first index, 0, and item refers to the first item, 'a'.\n",
    "\n",
    ">>> print(index)\n",
    "0\n",
    ">>> print(item)\n",
    "a\n",
    "Conclusion\n",
    "Python indexes start at zero\n",
    "To get these indexes from an iterable as you iterate over it, use the enumerate function\n",
    "Using enumerate in the idiomatic way (along with tuple unpacking) creates code that is more readable and maintainable:\n",
    "So do this:\n",
    "\n",
    "for index, item in enumerate(items, start=0):   # Python indexes start at zero\n",
    "    print(index, item)"
   ]
  },
  {
   "cell_type": "markdown",
   "metadata": {},
   "source": [
    "https://stackoverflow.com/questions/522563/accessing-the-index-in-for-loops"
   ]
  }
 ],
 "metadata": {
  "language_info": {
   "name": "python"
  },
  "orig_nbformat": 4
 },
 "nbformat": 4,
 "nbformat_minor": 2
}
