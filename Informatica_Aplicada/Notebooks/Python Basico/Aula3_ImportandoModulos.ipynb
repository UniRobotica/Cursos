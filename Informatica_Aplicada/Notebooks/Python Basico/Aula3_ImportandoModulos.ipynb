{
 "cells": [
  {
   "cell_type": "markdown",
   "metadata": {},
   "source": [
    "# Importando Módulos\n",
    "Todos os programas Python podem chamar um conjunto básico de funções chamadas funções integradas , incluindo as funções print() , input() e len() que você já viu antes. \n",
    "\n",
    "Python também vem com um conjunto de módulos chamado biblioteca padrão . Cada módulo é um programa Python que contém um grupo relacionado de funções que podem ser incorporadas em seus programas. Por exemplo, o módulo \"math\" possui funções relacionadas à matemática, o módulo aleatório possui funções relacionadas a números aleatórios e assim por diante.\n",
    "\n",
    "Antes de poder usar as funções em um módulo, você deve importar o módulo com uma instrução import . No código, uma instrução de importação consiste no seguinte:\n",
    "\n",
    "* A palavra-chave de importação\n",
    "* O nome do módulo\n",
    "* Opcionalmente, mais nomes de módulos, desde que separados por vírgulas\n",
    "\n",
    "Depois de importar um módulo, você pode usar todas as funções interessantes desse módulo. Vamos tentar com o módulo random , que nos dará acesso à função random.randint() ."
   ]
  },
  {
   "cell_type": "code",
   "execution_count": null,
   "metadata": {},
   "outputs": [],
   "source": [
    "import random\n",
    "for i in range(5):\n",
    "    print(random.randint(1, 10))"
   ]
  },
  {
   "cell_type": "markdown",
   "metadata": {},
   "source": [
    "> Ao salvar seus scripts Python, tome cuidado para não dar a eles um nome que seja usado por um dos módulos do Python, como random.py , sys.py , os.py ou math.py . Se você acidentalmente nomear um de seus programas, digamos, random.py , e usar uma instrução import random em outro programa, seu programa importaria seu arquivo random.py em vez do módulo aleatório do Python . Isso pode levar a erros como AttributeError: module 'random' has no attribute 'randint' , já que seu random.py não possui as funções que o módulo aleatório real possui. Também não use os nomes de nenhuma função interna do Python, como print() ou input() ."
   ]
  },
  {
   "cell_type": "markdown",
   "metadata": {},
   "source": [
    "# Encerrando um programa antecipadamente com a função sys.exit()\n",
    "Os programas sempre terminam se a execução do programa atingir o final das instruções. No entanto, você pode fazer com que o programa seja encerrado ou encerrado antes da última instrução chamando a função sys.exit() . Como esta função está no módulo sys , você deve importar sys antes que seu programa possa usá-la."
   ]
  },
  {
   "cell_type": "code",
   "execution_count": 8,
   "metadata": {},
   "outputs": [
    {
     "name": "stdout",
     "output_type": "stream",
     "text": [
      "Digite sair para sair.\n"
     ]
    },
    {
     "ename": "SystemExit",
     "evalue": "",
     "output_type": "error",
     "traceback": [
      "An exception has occurred, use %tb to see the full traceback.\n",
      "\u001b[1;31mSystemExit\u001b[0m\n"
     ]
    },
    {
     "name": "stderr",
     "output_type": "stream",
     "text": [
      "C:\\Users\\guilo\\AppData\\Roaming\\Python\\Python312\\site-packages\\IPython\\core\\interactiveshell.py:3585: UserWarning: To exit: use 'exit', 'quit', or Ctrl-D.\n",
      "  warn(\"To exit: use 'exit', 'quit', or Ctrl-D.\", stacklevel=1)\n"
     ]
    }
   ],
   "source": [
    "import sys\n",
    "\n",
    "while True:\n",
    "    print('Digite sair para sair.')\n",
    "    resposta = input()\n",
    "    if resposta == 'sair':\n",
    "        sys.exit()\n",
    "    print('Voce digitou ' + resposta + '.')"
   ]
  },
  {
   "cell_type": "code",
   "execution_count": 7,
   "metadata": {},
   "outputs": [
    {
     "ename": "SystemExit",
     "evalue": "",
     "output_type": "error",
     "traceback": [
      "An exception has occurred, use %tb to see the full traceback.\n",
      "\u001b[1;31mSystemExit\u001b[0m\n"
     ]
    },
    {
     "name": "stderr",
     "output_type": "stream",
     "text": [
      "C:\\Users\\guilo\\AppData\\Roaming\\Python\\Python312\\site-packages\\IPython\\core\\interactiveshell.py:3585: UserWarning: To exit: use 'exit', 'quit', or Ctrl-D.\n",
      "  warn(\"To exit: use 'exit', 'quit', or Ctrl-D.\", stacklevel=1)\n"
     ]
    }
   ],
   "source": [
    "sys.exit()"
   ]
  },
  {
   "cell_type": "markdown",
   "metadata": {},
   "source": [
    "# Um programa curto: Adivinhe o número\n"
   ]
  },
  {
   "cell_type": "code",
   "execution_count": null,
   "metadata": {},
   "outputs": [],
   "source": [
    "# Este é um jogo de adivinhação de um número\n",
    "import random\n",
    "numeroSecreto = random.randint(1, 20) # Gera um número secreto entre 1 e 20\n",
    "print('Eu estou pensando em um número entre 1 e 20.')\n",
    "\n",
    "# Pede ao jogador que adivinhe no máximo de 6 tentativas\n",
    "for tentativasFeitas in range(1, 7):\n",
    "    print('Adivinhe: ')\n",
    "    palpite = int(input())\n",
    "\n",
    "    if palpite < numeroSecreto:\n",
    "        print('Seu palpite foi muito baixo.')\n",
    "    elif palpite > numeroSecreto:\n",
    "        print('Seu palpite foi muito alto.')\n",
    "    else:\n",
    "        break    # Esta codição é para uma adivinhação correta\n",
    "\n",
    "if palpite == numeroSecreto:\n",
    "    print('Bom trabalho! Você adivinhou o número em ' + str(tentativasFeitas) + 'tentativas!')\n",
    "else:\n",
    "    print('Não. O número que eu estava pensando era ' + str(numeroSecreto))"
   ]
  },
  {
   "cell_type": "markdown",
   "metadata": {},
   "source": [
    "https://autbor.com/guessthenumber/"
   ]
  },
  {
   "cell_type": "code",
   "execution_count": null,
   "metadata": {},
   "outputs": [],
   "source": [
    "import math #importa a biblioteca\n",
    "num = int(input(\"Digite o número que quer calcular a raiz quadrada: \"))\n",
    "raiz = math.sqrt(num) # A função sqrt() do módulo 'math' calcula a raiz quadrada \n",
    "print(\"A raiz quadrada de {num} é {raiz:.3g}\".format(num=num,raiz=raiz))"
   ]
  },
  {
   "cell_type": "code",
   "execution_count": null,
   "metadata": {},
   "outputs": [],
   "source": [
    "ang_graus = int(input(\"Digite um ângulo (Em graus): \"))\n",
    "ang_rad = ang_graus*math.pi/180 #Observe que estamos utilizando a constante pi\n",
    "seno = math.sin(ang_rad) # A função sin() calcula o seno de um ângulo\n",
    "print(\"O seno de {ang_graus}° é {seno:.5f}\".format(ang_graus=ang_graus,seno=seno))\n",
    "#f or F\tFloating point\n",
    "#g or G\tFloating point or Exponential"
   ]
  },
  {
   "cell_type": "markdown",
   "metadata": {},
   "source": [
    "from [módulo] import [função1], [função2], [constante1], [etc]"
   ]
  },
  {
   "cell_type": "code",
   "execution_count": null,
   "metadata": {},
   "outputs": [],
   "source": [
    "from math import pi\n",
    "pi"
   ]
  },
  {
   "cell_type": "code",
   "execution_count": null,
   "metadata": {},
   "outputs": [],
   "source": [
    "# Utilizando from import\n",
    "from math import factorial\n",
    "numero = int(input(\"Digite um valor: \"))\n",
    "fat = factorial(numero)\n",
    "print(\"O fatorial de {} é {}.\".format(numero, fat))"
   ]
  },
  {
   "cell_type": "markdown",
   "metadata": {},
   "source": [
    "# Renomeando módulos\n",
    "Uma outra forma de importar módulos é renomeando-o. Observe novamente o exemplo do fatorial:\n"
   ]
  },
  {
   "cell_type": "code",
   "execution_count": null,
   "metadata": {},
   "outputs": [],
   "source": [
    "import math as m\n",
    "numero = int(input(\"Digite um valor: \"))\n",
    "fat = m.factorial(numero)\n",
    "print(\"O fatorial de {} é {}.\".format(numero, fat))"
   ]
  },
  {
   "cell_type": "markdown",
   "metadata": {},
   "source": [
    "# Classificação das bibliotecas de Python\n",
    "Essas bibliotecas podem ser classificadas em pelo menos 06 tipos diferentes, sendo eles: Processamento de dados, Visualização de dados, Aprendizado de máquina, Web Scraping (extração de informações da web), Geração de números aleatórios e Processamento de linguagem.\n",
    "\n",
    "Bibliotecas de processamento de dados: Pandas, Numpy, etc. Essas bibliotecas são usadas para manipular e processar dados em formato tabular ou matricial.\n",
    "\n",
    "Bibliotecas de visualização de dados: Matplotlib, Seaborn, etc. Essas bibliotecas são usadas para criar gráficos e visualizações de dados para ajudar na análise e interpretação dos dados.\n",
    "\n",
    "Bibliotecas de aprendizado de máquina: Scikit-Learn, Tensorflow, Keras, etc. Essas bibliotecas são usadas para criar modelos de aprendizado de máquina e realizar tarefas de inteligência artificial.\n",
    "\n",
    "Bibliotecas de web scraping: BeautifulSoup, Scrapy, etc. Essas bibliotecas são usadas para extrair informações de páginas da web.\n",
    "\n",
    "Bibliotecas de geração de números aleatórios: random, numpy.random, etc. Essas bibliotecas são usadas para gerar números aleatórios para vários fins, incluindo simulações e testes.\n",
    "\n",
    "Bibliotecas de processamento de linguagem natural: NLTK, SpaCy, PyDictionary, etc. Essas bibliotecas são usadas para processar texto e realizar tarefas de processamento de linguagem natural, como análise de sentimentos e extração de informações.\n",
    "\n",
    "Outras bibliotecas mais específicas: Flask, PYGame, PyAutoGui, PyOD, Pyglet, etc. Cada uma dessas bibliotecas são usadas para uma finalidade específica, tais quais criar APIS, desenvolver jogos, realizar tarefas de automação, detectar valores e criar aplicativos interativos."
   ]
  },
  {
   "cell_type": "markdown",
   "metadata": {},
   "source": [
    "# Importação de bibliotecas externas\n",
    "Além dos módulos que fazem parte da biblioteca padrão do Python, existem diversas bibliotecas externas que podem ser instaladas e importadas para adicionar funcionalidades extras ao seu código.\n",
    "\n",
    "pip install numpy"
   ]
  },
  {
   "cell_type": "code",
   "execution_count": 1,
   "metadata": {},
   "outputs": [
    {
     "name": "stdout",
     "output_type": "stream",
     "text": [
      "Raiz quadrada do array1  :  [1. 2. 3. 4.]\n",
      "Raiz quadrada do array2  :  [2.44948974 3.16227766 4.24264069]\n"
     ]
    }
   ],
   "source": [
    "import numpy as np  \n",
    "\n",
    "arr1 = np.sqrt([1, 4, 9, 16]) \n",
    "arr2 = np.sqrt([6, 10, 18])\n",
    "\n",
    " \n",
    "print(\"Raiz quadrada do array1  : \", arr1) \n",
    "print(\"Raiz quadrada do array2  : \", arr2)"
   ]
  },
  {
   "cell_type": "code",
   "execution_count": 2,
   "metadata": {},
   "outputs": [
    {
     "ename": "TypeError",
     "evalue": "must be real number, not list",
     "output_type": "error",
     "traceback": [
      "\u001b[1;31m---------------------------------------------------------------------------\u001b[0m",
      "\u001b[1;31mTypeError\u001b[0m                                 Traceback (most recent call last)",
      "Cell \u001b[1;32mIn[2], line 3\u001b[0m\n\u001b[0;32m      1\u001b[0m \u001b[38;5;28;01mimport\u001b[39;00m \u001b[38;5;21;01mmath\u001b[39;00m \u001b[38;5;28;01mas\u001b[39;00m \u001b[38;5;21;01mm\u001b[39;00m \n\u001b[1;32m----> 3\u001b[0m arr1 \u001b[38;5;241m=\u001b[39m \u001b[43mm\u001b[49m\u001b[38;5;241;43m.\u001b[39;49m\u001b[43msqrt\u001b[49m\u001b[43m(\u001b[49m\u001b[43m[\u001b[49m\u001b[38;5;241;43m1\u001b[39;49m\u001b[43m,\u001b[49m\u001b[43m \u001b[49m\u001b[38;5;241;43m4\u001b[39;49m\u001b[43m,\u001b[49m\u001b[43m \u001b[49m\u001b[38;5;241;43m9\u001b[39;49m\u001b[43m,\u001b[49m\u001b[43m \u001b[49m\u001b[38;5;241;43m16\u001b[39;49m\u001b[43m]\u001b[49m\u001b[43m)\u001b[49m \n\u001b[0;32m      4\u001b[0m arr2 \u001b[38;5;241m=\u001b[39m m\u001b[38;5;241m.\u001b[39msqrt([\u001b[38;5;241m6\u001b[39m, \u001b[38;5;241m10\u001b[39m, \u001b[38;5;241m18\u001b[39m])\n\u001b[0;32m      7\u001b[0m \u001b[38;5;28mprint\u001b[39m(\u001b[38;5;124m\"\u001b[39m\u001b[38;5;124mRaiz quadrada do array1  : \u001b[39m\u001b[38;5;124m\"\u001b[39m, arr1) \n",
      "\u001b[1;31mTypeError\u001b[0m: must be real number, not list"
     ]
    }
   ],
   "source": [
    "import math as m \n",
    "\n",
    "arr1 = m.sqrt([1, 4, 9, 16]) \n",
    "arr2 = m.sqrt([6, 10, 18])\n",
    "\n",
    " \n",
    "print(\"Raiz quadrada do array1  : \", arr1) \n",
    "print(\"Raiz quadrada do array2  : \", arr2)"
   ]
  },
  {
   "cell_type": "code",
   "execution_count": null,
   "metadata": {},
   "outputs": [],
   "source": [
    "arr3 = round(arr2)\n",
    "print(\"Raiz quadrada do array2  : \", arr3)"
   ]
  },
  {
   "cell_type": "code",
   "execution_count": null,
   "metadata": {},
   "outputs": [],
   "source": [
    "arr3 = np.round(arr2,2)\n",
    "print(\"Raiz quadrada do array2  : \", arr3)"
   ]
  },
  {
   "cell_type": "markdown",
   "metadata": {},
   "source": [
    "## Matplotlib\n",
    "\n",
    "No exemplo a seguir podemos visualizar dados através de gráficos utilizando a biblioteca **matplotlib**"
   ]
  },
  {
   "cell_type": "code",
   "execution_count": 1,
   "metadata": {},
   "outputs": [
    {
     "data": {
      "image/png": "[encoded data removed]",
      "text/plain": [
       "<Figure size 640x480 with 1 Axes>"
      ]
     },
     "metadata": {},
     "output_type": "display_data"
    }
   ],
   "source": [
    "import matplotlib.pyplot as plt\n",
    "import numpy as np\n",
    "\n",
    "fig, ax = plt.subplots()             # Cria um figura contendo um único eixo\n",
    "ax.plot([1, 2, 3, 4], [1, 4, 2, 3])  # Plota alguns dados nos eixos\n",
    "plt.show()                           # Mostra a figura"
   ]
  },
  {
   "cell_type": "markdown",
   "metadata": {},
   "source": [
    "NumPy: Biblioteca para cálculos numéricos e manipulação de arrays multidimensionais.\n",
    "\n",
    "Pandas: Biblioteca para análise de dados e manipulação de estruturas de dados.\n",
    "\n",
    "Matplotlib: Biblioteca para visualização de dados em gráficos e plots.\n",
    "\n",
    "Scikit-learn: Biblioteca para aprendizado de máquina e mineração de dados.\n",
    "\n",
    "TensorFlow: Biblioteca para desenvolvimento e implantação de modelos de aprendizado de máquina.\n",
    "\n",
    "Django: Framework para desenvolvimento de aplicativos web.\n",
    "\n",
    "Flask: Microframework para desenvolvimento de aplicativos web.\n",
    "\n",
    "Requests: Biblioteca para realizar requisições HTTP.\n",
    "\n",
    "BeautifulSoup: Biblioteca para análise e extração de informações de páginas web."
   ]
  },
  {
   "cell_type": "markdown",
   "metadata": {},
   "source": [
    "Um módulo é um arquivo contendo definições e instruções Python que podem ser importadas e utilizadas em outros programas."
   ]
  },
  {
   "cell_type": "markdown",
   "metadata": {},
   "source": [
    "Uma biblioteca em Python é um conjunto de módulos e funções pré-definidos que podem ser utilizados para facilitar o desenvolvimento de programas. Em outras palavras, é um conjunto de código que já foi escrito e pode ser reutilizado em diferentes projetos."
   ]
  },
  {
   "cell_type": "markdown",
   "metadata": {},
   "source": [
    "# Exemplo Prático de Uso na Engenharia Civil\n",
    "\n",
    "Podemos utilizar o PyCBA para fazer análises em uma dimensão de vigas. O seguinte exemplo foi retirado da documentação oficial do [PyCBA](https://ccaprani.github.io/pycba/notebooks/intro.html)."
   ]
  },
  {
   "cell_type": "markdown",
   "metadata": {},
   "source": [
    "Vamos analisar uma viga de dois vãos, com as cargas distribuidas uniformente (UDL) em cada vão.\n",
    "<img src=\"../Figuras/exemplo_viga.png\" width=\"700\">\n",
    "<br/>\n",
    "Inicialmente, definimos os comprimentos dos membros, que neste caso coincidem com os vãos, AB e BC.\n",
    "\n",
    "A rigidez à flexão (módulo de elasticidade multiplicado pelo segundo momento da área) pode ser definida para cada membro ou, se um valor escalar for passado, ele será atribuído a todos os membros. Aqui, pegamos E=30 GPa (módulo da elasticidade) e I=600&times;10<sup>7</sup> mm<sup>4</sup> (momento de inercia) e aplicamos uma conversão para colocá-lo em um conjunto consistente de unidades (kN e m).\n",
    "\n",
    "As restrições da viga em cada grau de liberdade nodal então definidas. Como há três nós, este será um vetor de 2 &times; 3 = 6 entradas. Apenas o grau de liberdade vertical (e não rotacional) é restringido nos nós A, B e C, e, portanto, isso é indicado usando -1 e 0 para irrestrito."
   ]
  },
  {
   "cell_type": "code",
   "execution_count": 2,
   "metadata": {},
   "outputs": [],
   "source": [
    "import pycba as cba  # Biblioteca principal\n",
    "import numpy as np  # Para arrays\n",
    "import matplotlib.pyplot as plt  # Para plotar\n",
    "\n",
    "L = [7.5, 7.0] # Comprimento de cada vão da viga\n",
    "EI = 30 * 600e7 * 1e-6 # Cálculo da rigidez flexural\n",
    "R = [-1, 0, -1, 0, -1, 0] # graus de liberdade nos nós da viga"
   ]
  },
  {
   "cell_type": "markdown",
   "metadata": {},
   "source": [
    "Com as variáveis ​​básicas definidas, construímos o objeto ```beam_analysis``` passando essas variáveis. Ele será o objeto responsável por fazer a análise da viga."
   ]
  },
  {
   "cell_type": "code",
   "execution_count": 3,
   "metadata": {},
   "outputs": [],
   "source": [
    "analise_viga = cba.BeamAnalysis(L, EI, R)"
   ]
  },
  {
   "cell_type": "markdown",
   "metadata": {},
   "source": [
    "Em seguida, adicionamos as cargas para cada intervalo a este objeto usando as funções utilitárias ``add_*``:"
   ]
  },
  {
   "cell_type": "code",
   "execution_count": 4,
   "metadata": {},
   "outputs": [],
   "source": [
    "analise_viga.add_udl(i_span=1,w=20) # Carga de 20 kN/m sendo aplicada no vão AB\n",
    "analise_viga.add_udl(i_span=2,w=20) # Carga de 20 kN/m sendo aplicada no vão BC"
   ]
  },
  {
   "cell_type": "markdown",
   "metadata": {},
   "source": [
    "Agora que aplicamos as cargas, ele está pronto para análise. Chamamos a função ``analyze()`` e plotamos o resultado com a função ``plot_results()``"
   ]
  },
  {
   "cell_type": "code",
   "execution_count": 5,
   "metadata": {},
   "outputs": [
    {
     "data": {
      "image/png": "[encoded data removed]",
      "text/plain": [
       "<Figure size 640x480 with 3 Axes>"
      ]
     },
     "metadata": {},
     "output_type": "display_data"
    }
   ],
   "source": [
    "analise_viga.analyze()\n",
    "analise_viga.plot_results()"
   ]
  }
 ],
 "metadata": {
  "kernelspec": {
   "display_name": "Python 3",
   "language": "python",
   "name": "python3"
  },
  "language_info": {
   "codemirror_mode": {
    "name": "ipython",
    "version": 3
   },
   "file_extension": ".py",
   "mimetype": "text/x-python",
   "name": "python",
   "nbconvert_exporter": "python",
   "pygments_lexer": "ipython3",
   "version": "3.12.6"
  }
 },
 "nbformat": 4,
 "nbformat_minor": 2
}
