{
 "cells": [
  {
   "cell_type": "markdown",
   "metadata": {},
   "source": [
    "Python fornece diversas funções integradas, mas você também pode escrever suas próprias funções. Uma função é como um miniprograma dentro de um programa.\n"
   ]
  },
  {
   "cell_type": "code",
   "execution_count": 8,
   "metadata": {},
   "outputs": [],
   "source": [
    "def hello():\n",
    "   print('Howdy!')\n",
    "   print('Howdy!!!')\n",
    "   print('Hello there.')\n"
   ]
  },
  {
   "cell_type": "code",
   "execution_count": null,
   "metadata": {},
   "outputs": [],
   "source": [
    "hello()"
   ]
  },
  {
   "cell_type": "code",
   "execution_count": null,
   "metadata": {},
   "outputs": [],
   "source": [
    "hello()\n",
    "hello()"
   ]
  },
  {
   "cell_type": "markdown",
   "metadata": {},
   "source": [
    " No código, uma chamada de função é apenas o nome da função seguido de parênteses, possivelmente com algum número de argumentos entre os parênteses.\n",
    " \n",
    " Quando a execução do programa atingir essas chamadas, ele irá para a linha superior da função e começará a executar o código ali. \n",
    " \n",
    " Ao chegar ao final da função, a execução retorna para a linha que chamou a função e continua percorrendo o código como antes."
   ]
  },
  {
   "cell_type": "markdown",
   "metadata": {},
   "source": [
    "# Instruções def com parâmetros\n",
    "Ao chamar a função print() ou len() , você passa valores para eles, chamados argumentos , digitando-os entre parênteses. Você também pode definir suas próprias funções que aceitam argumentos. "
   ]
  },
  {
   "cell_type": "code",
   "execution_count": null,
   "metadata": {},
   "outputs": [],
   "source": [
    "def hello(name):\n",
    "    print('Hello, ' + name)"
   ]
  },
  {
   "cell_type": "code",
   "execution_count": null,
   "metadata": {},
   "outputs": [],
   "source": [
    "hello('Alice')\n",
    "hello('Bob')"
   ]
  },
  {
   "cell_type": "markdown",
   "metadata": {},
   "source": [
    "A definição da função hello() neste programa possui um parâmetro chamado name. \n",
    "Parâmetros são variáveis ​​que contêm argumentos. Quando uma função é chamada com argumentos, os argumentos são armazenados nos parâmetros. \n",
    "Na primeira vez que a função hello() é chamada, é passado o argumento 'Alice'. \n",
    "A execução do programa entra na função e o nome do parâmetro é automaticamente definido como 'Alice' , que é impresso pela instrução print().\n",
    "\n",
    "Uma coisa especial a ser observada sobre os parâmetros é que o valor armazenado em um parâmetro é esquecido quando a função retorna. Por exemplo, se você adicionou print(name) depois de hello('Bob') no programa anterior, o programa forneceria um NameError porque não há nenhuma variável chamada name. Esta variável é destruída após o retorno da chamada de função hello('Bob') , então print(name) se referiria a uma variável de nome que não existe. Isto é semelhante a como as variáveis ​​de um programa são esquecidas quando o programa termina."
   ]
  },
  {
   "cell_type": "code",
   "execution_count": null,
   "metadata": {},
   "outputs": [],
   "source": [
    "print(name)"
   ]
  },
  {
   "cell_type": "markdown",
   "metadata": {},
   "source": [
    "# Definir, Chamar, Passar, Argumento, Parâmetro\n",
    "\n",
    "Definir uma função é criá-la, assim como uma instrução de atribuição como spam = 42 cria a variável spam."
   ]
  },
  {
   "cell_type": "code",
   "execution_count": null,
   "metadata": {},
   "outputs": [],
   "source": [
    "def sayHello(name):\n",
    "       print('Hello, ' + name)\n",
    "sayHello('Al')"
   ]
  },
  {
   "cell_type": "markdown",
   "metadata": {},
   "source": [
    "\n",
    "A instrução def define a função sayHello(), que chama a função agora criada, enviando a execução para o topo do código da função. \n",
    "Esta chamada de função também é conhecida como passagem do valor da string 'Al' para a função. Um valor sendopassado para uma função em uma chamada de função é um argumento.\n",
    "O argumento 'Al' é atribuído a uma variável local chamada name. \n",
    "Variáveis ​​que possuem argumentos atribuídos a elas são parâmetros."
   ]
  },
  {
   "cell_type": "markdown",
   "metadata": {},
   "source": [
    "# Valores de retorno e instruções de retorno\n",
    "Quando você chama a função len() e passa um argumento como 'Hello' , a chamada da função é avaliada como o valor inteiro 5 , que é o comprimento da string que você passou. Em geral, o valor avaliado por uma chamada de função é chamado de valor de retorno da função.\n",
    "\n",
    "Ao criar uma função usando a instrução def , você pode especificar qual deve ser o valor de retorno com uma instrução return . Uma instrução de retorno consiste no seguinte:\n",
    "\n",
    "* A palavra-chave de retorno\n",
    "* O valor ou expressão que a função deve retornar\n",
    "\n",
    "Quando uma expressão é usada com uma instrução return , o valor de retorno é o valor avaliado pela expressão. \n",
    "\n",
    "Por exemplo, o programa a seguir define uma função que retorna uma string diferente dependendo do número que ela é passada como argumento. "
   ]
  },
  {
   "cell_type": "code",
   "execution_count": 3,
   "metadata": {},
   "outputs": [
    {
     "name": "stdout",
     "output_type": "stream",
     "text": [
      "Ask again later\n"
     ]
    }
   ],
   "source": [
    "import random\n",
    "\n",
    "def getAnswer(answerNumber):\n",
    "    if answerNumber == 1:\n",
    "           return 'It is certain'\n",
    "    elif answerNumber == 2:\n",
    "           return 'It is decidedly so'\n",
    "    elif answerNumber == 3:\n",
    "           return 'Yes'\n",
    "    elif answerNumber == 4:\n",
    "           return 'Reply hazy try again'\n",
    "    elif answerNumber == 5:\n",
    "           return 'Ask again later'\n",
    "    elif answerNumber == 6:\n",
    "           return 'Concentrate and ask again'\n",
    "    elif answerNumber == 7:\n",
    "           return 'My reply is no'\n",
    "    elif answerNumber == 8:\n",
    "           return 'Outlook not so good'\n",
    "    elif answerNumber == 9:\n",
    "           return 'Very doubtful'\n",
    "\n",
    "r = random.randint(1, 9) #a função random.randint() é chamada com dois argumentos: 1 e 9. Ele é avaliado como um número inteiro aleatório entre 1 e 9 (incluindo os próprios 1 e 9 ), e esse valor é armazenado em uma variável chamada r .\n",
    "\n",
    "fortune = getAnswer(r)\n",
    "\n",
    "print(fortune)"
   ]
  },
  {
   "cell_type": "markdown",
   "metadata": {},
   "source": [
    "Como você pode passar valores de retorno como argumento para outra chamada de função, você pode encurtar estas últimas três linhas:"
   ]
  },
  {
   "cell_type": "code",
   "execution_count": 4,
   "metadata": {},
   "outputs": [
    {
     "name": "stdout",
     "output_type": "stream",
     "text": [
      "Concentrate and ask again\n"
     ]
    }
   ],
   "source": [
    "print(getAnswer(random.randint(1, 9)))"
   ]
  },
  {
   "cell_type": "markdown",
   "metadata": {},
   "source": [
    "# O valor None\n",
    "Em Python, existe um valor chamado None , que representa a ausência de um valor. O valor None é o único valor do tipo de dados NoneType . (Outras linguagens de programação podem chamar esse valor de null , nil ou undefined .) Assim como os valores booleanos True e False , None deve ser digitado com N maiúsculo .\n",
    "\n",
    "Esse valor sem valor pode ser útil quando você precisa armazenar algo que não será confundido com um valor real em uma variável. Um lugar onde None é usado é como valor de retorno de print() . A função print() exibe texto na tela, mas não precisa retornar nada da mesma forma que len() ou input() . Mas como todas as chamadas de função precisam ser avaliadas como um valor de retorno, print() retorna None. \n",
    "\n",
    "Python adiciona return None ao final de qualquer definição de função sem instrução de retorno . Isso é semelhante a como um loop while ou for termina implicitamente com uma instrução continue . Além disso, se você usar uma instrução return sem um valor (ou seja, apenas a palavra-chave return por si só), None será retornado"
   ]
  },
  {
   "cell_type": "code",
   "execution_count": null,
   "metadata": {},
   "outputs": [],
   "source": [
    "spam = print('Hello!')"
   ]
  },
  {
   "cell_type": "code",
   "execution_count": null,
   "metadata": {},
   "outputs": [],
   "source": [
    "None == spam"
   ]
  },
  {
   "cell_type": "markdown",
   "metadata": {},
   "source": [
    "Argumentos de palavras-chave são frequentemente usados ​​para parâmetros opcionais . Por exemplo, a função print() possui os parâmetros opcionais end e sep para especificar o que deve ser impresso no final de seus argumentos e entre seus argumentos"
   ]
  },
  {
   "cell_type": "code",
   "execution_count": null,
   "metadata": {},
   "outputs": [],
   "source": [
    "print('Hello', end='')\n",
    "print('World')"
   ]
  },
  {
   "cell_type": "code",
   "execution_count": null,
   "metadata": {},
   "outputs": [],
   "source": [
    "print('cats', 'dogs', 'mice', sep=',')"
   ]
  }
 ],
 "metadata": {
  "kernelspec": {
   "display_name": "Python 3",
   "language": "python",
   "name": "python3"
  },
  "language_info": {
   "codemirror_mode": {
    "name": "ipython",
    "version": 3
   },
   "file_extension": ".py",
   "mimetype": "text/x-python",
   "name": "python",
   "nbconvert_exporter": "python",
   "pygments_lexer": "ipython3",
   "version": "3.11.3"
  },
  "orig_nbformat": 4
 },
 "nbformat": 4,
 "nbformat_minor": 2
}
