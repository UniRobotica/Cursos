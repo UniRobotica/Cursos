{
 "cells": [
  {
   "cell_type": "markdown",
   "metadata": {},
   "source": [
    "# Importando Módulos\n",
    "Todos os programas Python podem chamar um conjunto básico de funções chamadas funções integradas , incluindo as funções print() , input() e len() que você já viu antes. \n",
    "\n",
    "Python também vem com um conjunto de módulos chamado biblioteca padrão . Cada módulo é um programa Python que contém um grupo relacionado de funções que podem ser incorporadas em seus programas. Por exemplo, o módulo \"math\" possui funções relacionadas à matemática, o módulo aleatório possui funções relacionadas a números aleatórios e assim por diante.\n",
    "\n",
    "Antes de poder usar as funções em um módulo, você deve importar o módulo com uma instrução import . No código, uma instrução de importação consiste no seguinte:\n",
    "\n",
    "* A palavra-chave de importação\n",
    "* O nome do módulo\n",
    "* Opcionalmente, mais nomes de módulos, desde que separados por vírgulas\n",
    "\n",
    "Depois de importar um módulo, você pode usar todas as funções interessantes desse módulo. Vamos tentar com o módulo random , que nos dará acesso à função random.randint() ."
   ]
  },
  {
   "cell_type": "code",
   "execution_count": null,
   "metadata": {},
   "outputs": [],
   "source": [
    "import random\n",
    "for i in range(5):\n",
    "    print(random.randint(1, 10))"
   ]
  },
  {
   "cell_type": "markdown",
   "metadata": {},
   "source": [
    "> Ao salvar seus scripts Python, tome cuidado para não dar a eles um nome que seja usado por um dos módulos do Python, como random.py , sys.py , os.py ou math.py . Se você acidentalmente nomear um de seus programas, digamos, random.py , e usar uma instrução import random em outro programa, seu programa importaria seu arquivo random.py em vez do módulo aleatório do Python . Isso pode levar a erros como AttributeError: module 'random' has no attribute 'randint' , já que seu random.py não possui as funções que o módulo aleatório real possui. Também não use os nomes de nenhuma função interna do Python, como print() ou input() ."
   ]
  },
  {
   "cell_type": "markdown",
   "metadata": {},
   "source": [
    "# Encerrando um programa antecipadamente com a função sys.exit()\n",
    "Os programas sempre terminam se a execução do programa atingir o final das instruções. No entanto, você pode fazer com que o programa seja encerrado ou encerrado antes da última instrução chamando a função sys.exit() . Como esta função está no módulo sys , você deve importar sys antes que seu programa possa usá-la."
   ]
  },
  {
   "cell_type": "code",
   "execution_count": null,
   "metadata": {},
   "outputs": [],
   "source": [
    "import sys\n",
    "\n",
    "while True:\n",
    "    print('Type exit to exit.')\n",
    "    response = input()\n",
    "    if response == 'exit':\n",
    "        sys.exit()\n",
    "    print('You typed ' + response + '.')"
   ]
  },
  {
   "cell_type": "markdown",
   "metadata": {},
   "source": [
    "# Um programa curto: Adivinhe o número\n"
   ]
  },
  {
   "cell_type": "code",
   "execution_count": null,
   "metadata": {},
   "outputs": [],
   "source": [
    "# This is a guess the number game.\n",
    "import random\n",
    "secretNumber = random.randint(1, 20)\n",
    "print('I am thinking of a number between 1 and 20.')\n",
    "\n",
    "# Ask the player to guess 6 times.\n",
    "for guessesTaken in range(1, 7):\n",
    "    print('Take a guess.')\n",
    "    guess = int(input())\n",
    "\n",
    "    if guess < secretNumber:\n",
    "        print('Your guess is too low.')\n",
    "    elif guess > secretNumber:\n",
    "        print('Your guess is too high.')\n",
    "    else:\n",
    "        break    # This condition is the correct guess!\n",
    "\n",
    "if guess == secretNumber:\n",
    "    print('Good job! You guessed my number in ' + str(guessesTaken) + '\n",
    "guesses!')\n",
    "else:\n",
    "    print('Nope. The number I was thinking of was ' + str(secretNumber))"
   ]
  }
 ],
 "metadata": {
  "kernelspec": {
   "display_name": "Python 3",
   "language": "python",
   "name": "python3"
  },
  "language_info": {
   "codemirror_mode": {
    "name": "ipython",
    "version": 3
   },
   "file_extension": ".py",
   "mimetype": "text/x-python",
   "name": "python",
   "nbconvert_exporter": "python",
   "pygments_lexer": "ipython3",
   "version": "3.11.8"
  }
 },
 "nbformat": 4,
 "nbformat_minor": 2
}
