{
 "cells": [
  {
   "cell_type": "markdown",
   "metadata": {},
   "source": []
  },
  {
   "cell_type": "markdown",
   "metadata": {},
   "source": []
  },
  {
   "cell_type": "markdown",
   "metadata": {},
   "source": [
    "# Markdown\n",
    "é uma sintaxe usada para padronizar e facilitar formatação de texto na web, utilizada em aplicativos como Slack e GitHub. Textos estilizados com Markdown são, na maioria dos casos, apenas texto com caracteres não-alfabéticos, como #, \\* e ![](), usados para a configuração de títulos, listas, itálico, negrito e inserção de imagens.\n",
    "\n",
    "O Markdown funciona como um conversor de texto para HTML: os caracteres não-alfabéticos são traduzidos como <b>, <i> e <a href>, etc. \n",
    "\n",
    "Já os textos sem formatação entram como parágrafo simples <p>"
   ]
  },
  {
   "cell_type": "markdown",
   "metadata": {},
   "source": [
    "# Título <h1>\n",
    "## Título <h2>\n",
    "### Título <h3>\n",
    "#### Título <h4>\n",
    "##### Título <h5>\n",
    "###### Título <h6>"
   ]
  },
  {
   "cell_type": "markdown",
   "metadata": {},
   "source": [
    "Texto-âncora: utilize os caracteres [](), adicionando entre chaves o texto que você quer que apareça, e entre os parênteses, o endereço de destino, no formato [exemplo](https://exemplo.com/).\n",
    "\n",
    "Link direto: envolva o endereço da web em chaves <>. O endereço ficará visível e será clicável pelo usuário. O endereço em forma de link direto tem o formato <https://exemplo.com/>."
   ]
  },
  {
   "cell_type": "markdown",
   "metadata": {},
   "source": [
    "Para listas não ordenadas, utilize um asterisco * na frente to item da lista:\n",
    "\n",
    "* Item 1\n",
    "* Item 2\n",
    "* Item 3\n",
    "\n",
    "\n",
    "Para listas ordenadas, utilize o número do item seguido de ponto . :\n",
    "\n",
    "1. Item 1\n",
    "2. Item 2\n",
    "3. Item 3"
   ]
  },
  {
   "cell_type": "markdown",
   "metadata": {},
   "source": [
    "O código para inserir uma imagem no conteúdo é semelhante ao código de inserir links-âncora, adicionando um ponto de exclamação ! no início do código, como no exemplo abaixo:\n",
    "\n",
    "![título da imagem](https://cdn-icons-png.flaticon.com/512/6410/6410174.png)"
   ]
  },
  {
   "cell_type": "markdown",
   "metadata": {},
   "source": [
    "Para gerar números aleatórios de uma distribuição normal no R, use a função rnorm().\n",
    "\n",
    "Para apresentar blocos de código, coloque o texto entre três crases seguidas (```) no início e no final. O bloco\n",
    "\n",
    "```\n",
    "x <- rnorm(n = 10, mean = 100, sd = 5)\n",
    "hist(x, main = \"\")\n",
    "```"
   ]
  },
  {
   "cell_type": "markdown",
   "metadata": {},
   "source": [
    "Tabelas podem ser escritas da seguinte forma:\n",
    "\n",
    "    Caracter | Permissão\n",
    "    ---------|----------\n",
    "    `r`      | Permissão de leitura (*read*)\n",
    "    `w`      | Permissão de escrita (*write*)\n",
    "    `x`      | Permissão de execução (*execute*)\n",
    "    `-`      | Permissão desabilitada"
   ]
  },
  {
   "cell_type": "markdown",
   "metadata": {},
   "source": [
    "Equações matemáticas\n",
    "Equações matemáticas podem ser escritas em formato LATEX\n",
    ". A página HTML resultante irá renderizar as equações através do MathJax.\n",
    "\n",
    "Equações na própria linha podem ser inseridas entre $:\n",
    "\n",
    "Um modelo de regressão linear simples:  $Y = \\beta_0 + \\beta_1 x + \\epsilon$.\n",
    "Um modelo de regressão linear simples: Y=β0+β1x+ϵ\n",
    ".\n",
    "\n",
    "Equações podem ser exibidas entre $$ para ficarem centralizadas em uma linha própria:\n",
    "\n",
    "$$\n",
    "f(x;\\mu,\\sigma^2) = \\frac{1}{\\sigma\\sqrt{2\\pi}}\n",
    "e^{ -\\frac{1}{2}\\left(\\frac{x-\\mu}{\\sigma}\\right)^2 }\n",
    "$$"
   ]
  },
  {
   "cell_type": "markdown",
   "metadata": {},
   "source": [
    "Para transformar um texto em uma citação ou comentário, semelhante ao código HTML <blockquote>, utilize o sinal > no início da linha que será formatada:\n",
    "\n",
    ">Este é um *blockquote*. O sinal usado abre e fecha este código no HTML. \n",
    ">Para adicionar mais uma linha à citação, basta teclar Enter para um novo\n",
    ">código sinal. Isso gerará um novo parágrafo dentro do *blockquote*.\n",
    ">Códigos de **negrito**, _itálico_ e <https://links.com> funcionam aqui."
   ]
  },
  {
   "cell_type": "markdown",
   "metadata": {},
   "source": [
    "Há dois modos de adicionar trechos de código ao Markdown:\n",
    "\n",
    "Código em linha (inline): adicione um acento grave ˋ no início e no final do código.\n",
    "Múltiplas linhas de código: envolva as linhas de código com três acentos graves ˋˋˋ ou três tils ~~~.\n",
    " Esta é uma linha que contém um ˋcódigoˋ.\n",
    "\n",
    "ˋˋˋ\n",
    "Esta é uma linha de código\n",
    " ˋˋˋ\n",
    "Para especificar que tipo de linguagem está sendo apresentada no bloco de códigos adicionando o nome da linguagem de programação após o ˋˋˋ ou ~~~, por exemplo ~~~javascript ou ~~~ruby. Veja nos exemplos abaixo:\n",
    "\n",
    "~~~javascript\n",
    "Esta é uma linha de código em Javascript.\n",
    "~~~\n",
    "\n",
    "~~~php\n",
    "Esta é uma linha de código em PHP.\n",
    "~~~\n",
    "\n",
    "~~~html\n",
    "Esta é uma linha de código em HTML.\n",
    "~~~"
   ]
  },
  {
   "cell_type": "markdown",
   "metadata": {},
   "source": [
    "Tabela\n",
    "Escolha os títulos das colunas e use | para delimitar as colunas. Depois, utilize hífen - na segunda linha para indicar que acima estão os títulos das colunas, usando novamente o | para delimitar colunas. Veja um exemplo abaixo:\n",
    "\n",
    "Exemplo   | Valor do exemplo\n",
    "--------- | ------\n",
    "Exemplo 1 | R$ 10\n",
    "Exemplo 2 | R$ 8\n",
    "Exemplo 3 | R$ 7\n",
    "Exemplo 4 | R$ 8"
   ]
  },
  {
   "cell_type": "markdown",
   "metadata": {},
   "source": [
    "Para especificar o tipo de alinhamento que deseja ter nas tabelas, utilize : ao lado do campo horizontal de hífens ---, na segunda linha da sua tabela. Veja abaixo:\n",
    "\n",
    "Alinhado a esquerda: usar : no lado esquerdo (alinhamento padrão);\n",
    "Alinhado a direita: usar : no lado direito;\n",
    "Centralizado: usar : dos dois lados."
   ]
  },
  {
   "cell_type": "markdown",
   "metadata": {},
   "source": [
    "```\n",
    "<html>\n",
    "  <head>\n",
    "    <title>Olá mundo</title>\n",
    "  </head>\n",
    "</html>\n",
    "```\n"
   ]
  }
 ],
 "metadata": {
  "language_info": {
   "name": "python"
  },
  "orig_nbformat": 4
 },
 "nbformat": 4,
 "nbformat_minor": 2
}
