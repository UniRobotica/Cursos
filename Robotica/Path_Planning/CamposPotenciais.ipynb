{
 "cells": [
  {
   "cell_type": "code",
   "execution_count": null,
   "metadata": {},
   "outputs": [],
   "source": [
    "def populate_attractive_field(height, width, goal_xy):\n",
    "    \"\"\" \n",
    "    Creates an attractive field\n",
    "    returns: 1D flat grid map\n",
    "    \"\"\"\n",
    "    field = [0] * height * width\n",
    "    for row in range(height):\n",
    "      for col in range(width):\n",
    "        force_value = random_force()\n",
    "        # Assign to potential field\n",
    "        field[row + width * col] = force_value\n",
    "    return field"
   ]
  },
  {
   "cell_type": "code",
   "execution_count": null,
   "metadata": {},
   "outputs": [],
   "source": [
    "def conical_attractive_force(current_cell, goal_cell, K = 1.0):\n",
    "    \"\"\"\n",
    "    Calculates the linear attractive force for one grid cell with respect to the target\n",
    "    current_cell: a list containing x and y values of one map grid cell\n",
    "    goal_cell: a list containing x and y values of the target grid cell\n",
    "    K: potential attractive constant\n",
    "    returns: linear attractive force scaled by the potential attractive constant\n",
    "    \"\"\"\n",
    "    dx = goal_cell[0] - current_cell[0]\n",
    "    dy = goal_cell[1] - current_cell[1]\n",
    "    distance = (dx ** 2 + dy ** 2)**0.5\n",
    "    return K * distance"
   ]
  },
  {
   "cell_type": "code",
   "execution_count": null,
   "metadata": {},
   "outputs": [],
   "source": [
    "def populate_attractive_field(height, width, goal_xy):\n",
    "    \"\"\" \n",
    "    Creates an attractive field\n",
    "    returns: 1D flat grid map\n",
    "    \"\"\"\n",
    "    field = [0] * height * width\n",
    "    for row in range(height):\n",
    "      for col in range(width):\n",
    "        force_value = conical_attractive_force([row, col], goal_xy)\n",
    "        # Assign to potential field\n",
    "        field[row + width * col] = force_value\n",
    "    return field"
   ]
  }
 ],
 "metadata": {
  "language_info": {
   "name": "python"
  },
  "orig_nbformat": 4
 },
 "nbformat": 4,
 "nbformat_minor": 2
}
