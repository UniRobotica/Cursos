{
 "cells": [
  {
   "cell_type": "code",
   "execution_count": 1,
   "metadata": {},
   "outputs": [
    {
     "name": "stdout",
     "output_type": "stream",
     "text": [
      "6\n",
      "4\n",
      "2\n",
      "2\n",
      "0\n",
      "6\n",
      "4\n",
      "2\n"
     ]
    }
   ],
   "source": [
    "L = [0,1,1,2,3]\n",
    "for k in range(4, -4, -1):\n",
    "    print(L[k] + L[k % len(L)])"
   ]
  },
  {
   "cell_type": "code",
   "execution_count": 2,
   "metadata": {},
   "outputs": [
    {
     "data": {
      "text/plain": [
       "5"
      ]
     },
     "execution_count": 2,
     "metadata": {},
     "output_type": "execute_result"
    }
   ],
   "source": [
    "len(L)"
   ]
  },
  {
   "cell_type": "code",
   "execution_count": 7,
   "metadata": {},
   "outputs": [
    {
     "data": {
      "text/plain": [
       "3"
      ]
     },
     "execution_count": 7,
     "metadata": {},
     "output_type": "execute_result"
    }
   ],
   "source": [
    "L[4 % len(L)]"
   ]
  },
  {
   "cell_type": "code",
   "execution_count": 6,
   "metadata": {},
   "outputs": [
    {
     "data": {
      "text/plain": [
       "4"
      ]
     },
     "execution_count": 6,
     "metadata": {},
     "output_type": "execute_result"
    }
   ],
   "source": [
    "4 % 5"
   ]
  },
  {
   "cell_type": "code",
   "execution_count": 8,
   "metadata": {},
   "outputs": [
    {
     "data": {
      "text/plain": [
       "8"
      ]
     },
     "execution_count": 8,
     "metadata": {},
     "output_type": "execute_result"
    }
   ],
   "source": [
    "2**3\n"
   ]
  },
  {
   "cell_type": "code",
   "execution_count": 3,
   "metadata": {},
   "outputs": [],
   "source": [
    "class Retangulo:\n",
    "    def __init__(self, largura, altura):\n",
    "        self.largura = largura\n",
    "        self.altura = altura\n",
    "\n",
    "    def calcular_area(self):\n",
    "        return self.largura * self.altura"
   ]
  },
  {
   "cell_type": "code",
   "execution_count": 4,
   "metadata": {},
   "outputs": [
    {
     "name": "stdout",
     "output_type": "stream",
     "text": [
      "2521\n"
     ]
    }
   ],
   "source": [
    "r1 = Retangulo(5,10)\n",
    "r2 = Retangulo(3,7)\n",
    "area_total = (r1.calcular_area())**2 + r2.calcular_area()\n",
    "print(area_total)"
   ]
  },
  {
   "cell_type": "code",
   "execution_count": null,
   "metadata": {},
   "outputs": [],
   "source": [
    "def SOMA_DIGITO_PARES_IMPARES (MATRICULA)\n",
    "    DIGITOS = int(DIGITO) \n",
    "    SOMA_PARES = sum(D FOR D IN FIGITOS IF D% 2==0) # SOMA DOS DIGITOS PARES\n",
    "    SOMA_IMAPRES = SUM(D DOR D IN DIGITOS IF D % 2=0)\n",
    "#SOMA DOS DIGITOS IMAPRES\n",
    "RETURN SOMA-PARES, SOMA_IMPARES\n",
    "EXEMPLO DE USO COM MINHA MATRICULA\n",
    "MATRICULA=\"071920509\"\n",
    "SOMA_PARES, SOMA_IMPARES=\n",
    "SOMA_DIGITO_PARES_IMPARES(MATRICULA)"
   ]
  },
  {
   "cell_type": "code",
   "execution_count": 8,
   "metadata": {},
   "outputs": [
    {
     "name": "stdout",
     "output_type": "stream",
     "text": [
      "msg1:A letra 'a' aparece 4 vezes.\n",
      "msg2 :A letra 'a' aparece 0 vezes.\n",
      "msg3:A letra 'a' aparece 1 vezes.\n"
     ]
    }
   ],
   "source": [
    "def contar(frase,letra):\n",
    "    return frase.count(letra)\n",
    "mensagens = {\n",
    "    'msg1': 'Python é uma linguagem de programação',\n",
    "    'msg2 ': 'Aprender Python é divertido!',\n",
    "    'msg3': 'Python é utilizado em desenvolvimento web!'\n",
    "}\n",
    "letra_cont = 'a'\n",
    "for chave, valor in mensagens.items():\n",
    "    qtd = contar(valor,letra_cont)\n",
    "    print(f\"{chave}:A letra '{letra_cont}' aparece {qtd} vezes.\")"
   ]
  }
 ],
 "metadata": {
  "kernelspec": {
   "display_name": ".venv",
   "language": "python",
   "name": "python3"
  },
  "language_info": {
   "codemirror_mode": {
    "name": "ipython",
    "version": 3
   },
   "file_extension": ".py",
   "mimetype": "text/x-python",
   "name": "python",
   "nbconvert_exporter": "python",
   "pygments_lexer": "ipython3",
   "version": "3.11.9"
  }
 },
 "nbformat": 4,
 "nbformat_minor": 2
}
